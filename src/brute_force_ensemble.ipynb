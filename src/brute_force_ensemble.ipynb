{
 "cells": [
  {
   "cell_type": "code",
   "execution_count": 2,
   "id": "89c69772-af04-471b-8c85-dfe42d615620",
   "metadata": {},
   "outputs": [],
   "source": [
    "import os\n",
    "from pdb import set_trace as bp\n",
    "from functools import reduce\n",
    "\n",
    "import numpy as np\n",
    "import math\n",
    "import pandas as pd\n",
    "\n",
    "from constant import target_indices"
   ]
  },
  {
   "cell_type": "code",
   "execution_count": 1,
   "id": "052f301c",
   "metadata": {},
   "outputs": [],
   "source": [
    "def softmax(x):\n",
    "    exps = np.exp(x)\n",
    "    return exps / np.sum(exps)\n",
    "\n",
    "\n",
    "def divide_by_sum(df):\n",
    "    return df.div(df.sum(axis=1), axis=0)\n",
    "\n",
    "\n",
    "def divide_by_softmax(df):\n",
    "    return df.apply(softmax, axis=1)\n",
    "\n",
    "\n",
    "def get_weights_by_normal_distribution(pbs):\n",
    "    pbs = np.array(pbs)\n",
    "    _mean = np.mean(pbs)\n",
    "    _std = np.std(pbs)\n",
    "    n_std = (pbs - _mean) / _std\n",
    "    pvalues = np.array([ .5 * (math.erf(n / 2 ** .5) + 1) for n in n_std])\n",
    "    weights = pvalues / np.sum(pvalues)\n",
    "    # weights = softmax(pvalues)\n",
    "    return weights"
   ]
  },
  {
   "cell_type": "code",
   "execution_count": 3,
   "id": "bf7c81b3",
   "metadata": {},
   "outputs": [],
   "source": [
    "def merge_dfs(dfs, models_name, weights):\n",
    "    file_name = '_'.join([f'{name}{weights[i]}' for i, name in enumerate(models_name)])\n",
    "    save_dir = f'../save_dir/ensemble_result/brute_force/'\n",
    "    save_path = f'{save_dir}/{file_name}.csv'\n",
    "    if not os.path.isdir(save_dir):\n",
    "        os.mkdir(save_dir)\n",
    "    assert not os.path.exists(save_path)\n",
    "\n",
    "    # sum weighted logits\n",
    "    dfs = [df * weights[i] for i, df in enumerate(dfs)]\n",
    "    df = reduce(lambda x, y: x.add(y, fill_value=0), dfs)\n",
    "\n",
    "    # get top3\n",
    "    topk_df_indices = df.values.argsort(axis=1)[:, -3:]\n",
    "    topk_df_indices = np.flip(topk_df_indices, axis=1)\n",
    "    topk_values = target_indices[topk_df_indices].astype(int)+1\n",
    "\n",
    "    # create dataframe\n",
    "    df_top3 = pd.DataFrame(\n",
    "        data=np.concatenate([np.array(df.index).reshape(-1, 1), topk_values], axis=1),\n",
    "        columns=['chid', 'top1', 'top2', 'top3']).astype(int).astype(str)\n",
    "\n",
    "    df_top3.to_csv(save_path, index=None)"
   ]
  },
  {
   "cell_type": "code",
   "execution_count": 5,
   "id": "44543648",
   "metadata": {},
   "outputs": [
    {
     "name": "stdout",
     "output_type": "stream",
     "text": [
      "../save_dir/ensemble_result/MMCnn0.1_MMNN0.2_nn3Attn0.3_CnnAggBn0.4_MMNNBn0.5\n"
     ]
    }
   ],
   "source": [
    "ensemble_dir = '../save_dir/ensemble_result'\n",
    "\n",
    "df_paths = [\n",
    "    f'{ensemble_dir}/mm_cnn_hidden256_5fold/logits.csv',\n",
    "    f'{ensemble_dir}/mm_hidden256_5fold_test/logits.csv',\n",
    "    f'{ensemble_dir}/nn3_attn_5fold/logits.csv',\n",
    "    f'{ensemble_dir}/mm_CnnAggBn_hidden256_5fold/logits.csv',\n",
    "    f'{ensemble_dir}/mm_nnbn_h192/logits.csv'\n",
    "]\n",
    "models_name = ['MMCnn', 'MMNN', 'nn3Attn', 'CnnAggBn','MMNNBn']\n",
    "\n",
    "# pbs = [0.72782, 0.72697, 0.72652, 0.72669, 0.72724]\n",
    "dfs = [divide_by_softmax(pd.read_csv(path).sort_values(by='chid').set_index('chid')) for path in df_paths]\n",
    "\n",
    "\n",
    "# merge_dfs([], models_name, [0.1, 0.2, 0.3, 0.4, 0.5])"
   ]
  },
  {
   "cell_type": "code",
   "execution_count": null,
   "id": "0803ed45",
   "metadata": {},
   "outputs": [],
   "source": []
  }
 ],
 "metadata": {
  "kernelspec": {
   "display_name": "Python 3",
   "language": "python",
   "name": "python3"
  },
  "language_info": {
   "codemirror_mode": {
    "name": "ipython",
    "version": 3
   },
   "file_extension": ".py",
   "mimetype": "text/x-python",
   "name": "python",
   "nbconvert_exporter": "python",
   "pygments_lexer": "ipython3",
   "version": "3.6.12"
  }
 },
 "nbformat": 4,
 "nbformat_minor": 5
}
